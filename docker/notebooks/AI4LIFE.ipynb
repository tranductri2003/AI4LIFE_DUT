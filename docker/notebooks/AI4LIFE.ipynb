{
  "cells": [
    {
      "cell_type": "code",
      "execution_count": null,
      "metadata": {
        "colab": {
          "base_uri": "https://localhost:8080/"
        },
        "id": "SR9SI9R_0WOU",
        "outputId": "7518b812-f41a-4ae7-ee50-5bc5796bf2e2"
      },
      "outputs": [
        {
          "output_type": "stream",
          "name": "stdout",
          "text": [
            "Mon Mar 20 12:40:39 2023       \n",
            "+-----------------------------------------------------------------------------+\n",
            "| NVIDIA-SMI 525.85.12    Driver Version: 525.85.12    CUDA Version: 12.0     |\n",
            "|-------------------------------+----------------------+----------------------+\n",
            "| GPU  Name        Persistence-M| Bus-Id        Disp.A | Volatile Uncorr. ECC |\n",
            "| Fan  Temp  Perf  Pwr:Usage/Cap|         Memory-Usage | GPU-Util  Compute M. |\n",
            "|                               |                      |               MIG M. |\n",
            "|===============================+======================+======================|\n",
            "|   0  Tesla T4            Off  | 00000000:00:04.0 Off |                    0 |\n",
            "| N/A   46C    P0    25W /  70W |      0MiB / 15360MiB |      0%      Default |\n",
            "|                               |                      |                  N/A |\n",
            "+-------------------------------+----------------------+----------------------+\n",
            "                                                                               \n",
            "+-----------------------------------------------------------------------------+\n",
            "| Processes:                                                                  |\n",
            "|  GPU   GI   CI        PID   Type   Process name                  GPU Memory |\n",
            "|        ID   ID                                                   Usage      |\n",
            "|=============================================================================|\n",
            "|  No running processes found                                                 |\n",
            "+-----------------------------------------------------------------------------+\n"
          ]
        }
      ],
      "source": [
        "!nvidia-smi"
      ]
    },
    {
      "cell_type": "code",
      "execution_count": null,
      "metadata": {
        "colab": {
          "base_uri": "https://localhost:8080/"
        },
        "id": "je2tvd8Gu7YZ",
        "outputId": "33c6ba43-c9ae-4b34-990e-9ec3c439f2aa"
      },
      "outputs": [
        {
          "output_type": "stream",
          "name": "stdout",
          "text": [
            "nvcc: NVIDIA (R) Cuda compiler driver\n",
            "Copyright (c) 2005-2022 NVIDIA Corporation\n",
            "Built on Wed_Sep_21_10:33:58_PDT_2022\n",
            "Cuda compilation tools, release 11.8, V11.8.89\n",
            "Build cuda_11.8.r11.8/compiler.31833905_0\n",
            "torch:  1.13 ; cuda:  cu116\n"
          ]
        }
      ],
      "source": [
        "import torch\n",
        "!nvcc --version\n",
        "TORCH_VERSION = \".\".join(torch.__version__.split(\".\")[:2])\n",
        "CUDA_VERSION = torch.__version__.split(\"+\")[-1]\n",
        "print(\"torch: \", TORCH_VERSION, \"; cuda: \", CUDA_VERSION)"
      ]
    },
    {
      "cell_type": "code",
      "execution_count": null,
      "metadata": {
        "colab": {
          "base_uri": "https://localhost:8080/"
        },
        "id": "6qsQaKLF0et7",
        "outputId": "6588f1b4-7cb0-4194-9694-45f76fc0e78b"
      },
      "outputs": [
        {
          "output_type": "stream",
          "name": "stdout",
          "text": [
            "/content\n"
          ]
        }
      ],
      "source": [
        "import os\n",
        "HOME = os.getcwd()\n",
        "print(HOME)"
      ]
    },
    {
      "cell_type": "markdown",
      "metadata": {
        "id": "Ern2bvVG04GW"
      },
      "source": [
        "## Install YOLOv8"
      ]
    },
    {
      "cell_type": "code",
      "execution_count": null,
      "metadata": {
        "colab": {
          "base_uri": "https://localhost:8080/"
        },
        "id": "8w4nepQU00rY",
        "outputId": "49718ee9-27cb-4597-b3f6-da885e319863"
      },
      "outputs": [
        {
          "output_type": "stream",
          "name": "stderr",
          "text": [
            "Ultralytics YOLOv8.0.54 🚀 Python-3.9.16 torch-1.13.1+cu116 CUDA:0 (Tesla T4, 15102MiB)\n",
            "Setup complete ✅ (2 CPUs, 12.7 GB RAM, 25.5/78.2 GB disk)\n"
          ]
        }
      ],
      "source": [
        "!pip install ultralytics\n",
        "\n",
        "from IPython import display\n",
        "display.clear_output()\n",
        "\n",
        "import ultralytics\n",
        "ultralytics.checks()"
      ]
    },
    {
      "cell_type": "markdown",
      "metadata": {
        "id": "2BY9KJHd1WER"
      },
      "source": [
        "## Install Supervision"
      ]
    },
    {
      "cell_type": "code",
      "execution_count": null,
      "metadata": {
        "colab": {
          "base_uri": "https://localhost:8080/"
        },
        "id": "0bx_iBer09rD",
        "outputId": "cf647041-6efb-4870-d827-6ffe97447f16"
      },
      "outputs": [
        {
          "output_type": "stream",
          "name": "stdout",
          "text": [
            "supervision.__version__: 0.2.1\n"
          ]
        }
      ],
      "source": [
        "!pip install supervision==0.2.1\n",
        "\n",
        "\n",
        "from IPython import display\n",
        "display.clear_output()\n",
        "\n",
        "\n",
        "import supervision\n",
        "print(\"supervision.__version__:\", supervision.__version__)"
      ]
    },
    {
      "cell_type": "markdown",
      "metadata": {
        "id": "TF2CTMViQxyF"
      },
      "source": [
        "##DOWNLOAD VIDEO"
      ]
    },
    {
      "cell_type": "code",
      "execution_count": null,
      "metadata": {
        "colab": {
          "base_uri": "https://localhost:8080/"
        },
        "id": "3Rs5OMS7Q2ht",
        "outputId": "719ebdb6-aad7-4f69-89ee-d0bad3edc9f2"
      },
      "outputs": [
        {
          "output_type": "stream",
          "name": "stdout",
          "text": [
            "/usr/local/lib/python3.9/dist-packages/gdown/cli.py:121: FutureWarning: Option `--id` was deprecated in version 4.3.1 and will be removed in 5.0. You don't need to pass it anymore to use a file ID.\n",
            "  warnings.warn(\n",
            "Downloading...\n",
            "From: https://drive.google.com/uc?id=1H1wCn-_IviEOEpoGgb99EbTCBiHAkgl7\n",
            "To: /content/video1611_11.mp4\n",
            "100% 176M/176M [00:02<00:00, 73.9MB/s]\n"
          ]
        }
      ],
      "source": [
        "!gdown --id 1H1wCn-_IviEOEpoGgb99EbTCBiHAkgl7"
      ]
    },
    {
      "cell_type": "code",
      "execution_count": null,
      "metadata": {
        "id": "XTdouJU7Ro9V"
      },
      "outputs": [],
      "source": [
        "SOURCE_VIDEO_PATH = f\"{HOME}/input.mp4\"\n",
        "TARGET_VIDEO_PATH = f\"{HOME}/output/output.mp4\"\n"
      ]
    },
    {
      "cell_type": "code",
      "execution_count": null,
      "metadata": {
        "id": "cQf-63soR8oY",
        "colab": {
          "base_uri": "https://localhost:8080/",
          "height": 66,
          "referenced_widgets": [
            "899f6281b6764d4cb57e360dc0cbd765",
            "33137771ec43408aa14959088337dd23",
            "21b5e49105e84865aeb65c16fc5853de",
            "3c9a319e93f241bd8496bf093ec05bd7",
            "c28ad9d789bb425ba27ecc91a59f44ff",
            "98d392b006c24f74ad46172d2e357bc7",
            "6915a5d6067a426a998acec836de8488",
            "ff6cf2ce648246f6bc3ed7fd5e584d52",
            "e026731287d94f719ddbe89956422c63",
            "a6b192d4ac8440a1a67fd04e928148f4",
            "6c3a7d15edcc4536986925ce48f0d430"
          ]
        },
        "outputId": "0e1e80d3-579b-42c3-aae7-525dc648e352"
      },
      "outputs": [
        {
          "output_type": "stream",
          "name": "stderr",
          "text": [
            "Downloading https://github.com/ultralytics/assets/releases/download/v0.0.0/yolov8n.pt to yolov8n.pt...\n"
          ]
        },
        {
          "output_type": "display_data",
          "data": {
            "text/plain": [
              "  0%|          | 0.00/6.23M [00:00<?, ?B/s]"
            ],
            "application/vnd.jupyter.widget-view+json": {
              "version_major": 2,
              "version_minor": 0,
              "model_id": "899f6281b6764d4cb57e360dc0cbd765"
            }
          },
          "metadata": {}
        }
      ],
      "source": [
        "from ultralytics import YOLO\n",
        "\n",
        "model = YOLO('yolov8n.pt')"
      ]
    },
    {
      "cell_type": "code",
      "execution_count": null,
      "metadata": {
        "id": "AjRHJ8o6SI3I"
      },
      "outputs": [],
      "source": [
        "import supervision as sv"
      ]
    },
    {
      "cell_type": "code",
      "execution_count": null,
      "metadata": {
        "colab": {
          "base_uri": "https://localhost:8080/"
        },
        "id": "6a3VDtg_SC4Y",
        "outputId": "2dc70803-81eb-44a4-c1a4-88bbe65d3a3a"
      },
      "outputs": [
        {
          "output_type": "execute_result",
          "data": {
            "text/plain": [
              "VideoInfo(width=1920, height=1080, fps=20, total_frames=2771)"
            ]
          },
          "metadata": {},
          "execution_count": 10
        }
      ],
      "source": [
        "sv.VideoInfo.from_video_path(SOURCE_VIDEO_PATH)"
      ]
    },
    {
      "cell_type": "code",
      "execution_count": null,
      "metadata": {
        "id": "vAiZM8Y3SKyh"
      },
      "outputs": [],
      "source": [
        "import os\n",
        "import matplotlib.pyplot as plt\n",
        "import matplotlib as mpl\n",
        "import numpy as np\n",
        "from ultralytics import YOLO\n",
        "import supervision as sv\n",
        "import cv2\n",
        "from supervision import PolygonZone\n",
        "from IPython import display\n",
        "from typing import Optional, Tuple\n",
        "\n",
        "import cv2\n",
        "import numpy as np\n",
        "\n",
        "from supervision import Detections\n",
        "from supervision.detection.utils import generate_2d_mask\n",
        "from supervision.draw.color import Color\n",
        "from supervision.draw.utils import draw_polygon, draw_text\n",
        "from supervision.geometry.core import Position, Point\n",
        "from supervision.geometry.utils import get_polygon_center\n",
        "\n",
        "MODEL = \"yolov8n.pt\"\n",
        "model = YOLO(MODEL)\n",
        "os.environ[\"KMP_DUPLICATE_LIB_OK\"] = \"TRUE\"\n",
        "\n",
        "SOURCE_VIDEO_PATH = f\"{HOME}/input.mp4\"\n",
        "TARGET_VIDEO_PATH = f\"{HOME}/output/output.mp4\"\n",
        "VIDEO_INFO = sv.VideoInfo.from_video_path(SOURCE_VIDEO_PATH)\n",
        "\n",
        "\n",
        "WIDTH = VIDEO_INFO.width\n",
        "HEIGHT = VIDEO_INFO.height\n",
        "FPS = VIDEO_INFO.fps\n",
        "TOTAL_FRAMES = VIDEO_INFO.total_frames\n"
      ]
    },
    {
      "cell_type": "code",
      "source": [
        "class PolygonZone:\n",
        "    def __init__(\n",
        "        self,\n",
        "        polygon: np.ndarray,\n",
        "        frame_resolution_wh: Tuple[int, int],\n",
        "        triggering_position: Position = Position.BOTTOM_CENTER,\n",
        "    ):\n",
        "        self.polygon = polygon\n",
        "        self.frame_resolution_wh = frame_resolution_wh\n",
        "        self.triggering_position = triggering_position\n",
        "        self.mask = generate_2d_mask(\n",
        "            polygon=polygon, resolution_wh=frame_resolution_wh)\n",
        "        self.current_count = 0\n",
        "\n",
        "    def trigger(self, detections, data) -> np.ndarray:\n",
        "        anchors = (\n",
        "            np.ceil(\n",
        "                detections.get_anchor_coordinates(\n",
        "                    anchor=self.triggering_position)\n",
        "            ).astype(int)\n",
        "            - 1\n",
        "        )\n",
        "        is_in_zone = self.mask[anchors[:, 1], anchors[:, 0]]\n",
        "        self.current_count = np.sum(is_in_zone)\n",
        "        data.append(self.current_count)\n",
        "        return is_in_zone.astype(bool),self.current_count\n",
        "\n",
        "\n",
        "class PolygonZoneAnnotator:\n",
        "    def __init__(\n",
        "        self,\n",
        "        zone: PolygonZone,\n",
        "        color: Color,\n",
        "        thickness: int = 2,\n",
        "        text_color: Color = Color.blue(),\n",
        "        text_scale: float = 0.5,\n",
        "        text_thickness: int = 1,\n",
        "        text_padding: int = 10,\n",
        "    ):\n",
        "        self.zone = zone\n",
        "        self.color = color\n",
        "        self.thickness = thickness\n",
        "        self.text_color = text_color\n",
        "        self.text_scale = text_scale\n",
        "        self.text_thickness = text_thickness\n",
        "        self.text_padding = text_padding\n",
        "        self.font = cv2.FONT_HERSHEY_SIMPLEX\n",
        "        self.center = get_polygon_center(polygon=zone.polygon)\n",
        "\n",
        "    def annotate(self, totalNumber: Optional[int], scene: np.ndarray, label: Optional[str] = None) -> np.ndarray:\n",
        "        annotated_frame = draw_polygon(\n",
        "            scene=scene,\n",
        "            polygon=self.zone.polygon,\n",
        "            color=self.color,\n",
        "            thickness=self.thickness,\n",
        "        )\n",
        "\n",
        "        annotated_frame = draw_text(\n",
        "            scene=annotated_frame,\n",
        "            # text=(\"\") if label is None else label,\n",
        "            text=(\n",
        "                f\"Current People In Zone: {self.zone.current_count}\") if label is None else label,\n",
        "            text_anchor=Point(450, 100),\n",
        "            background_color=self.color,\n",
        "            text_color=self.text_color,\n",
        "            text_scale=self.text_scale,\n",
        "            text_thickness=self.text_thickness,\n",
        "            text_padding=self.text_padding,\n",
        "            text_font=self.font,\n",
        "        )\n",
        "        if \".\" in str(totalNumber):\n",
        "            totalNumber = str(totalNumber)\n",
        "            totalNumber = totalNumber[:len(totalNumber)-2]\n",
        "        annotated_frame = draw_text(\n",
        "            scene=annotated_frame,\n",
        "            # text=(\"\") if label is None else label,\n",
        "            text=(\n",
        "                f\"Total People In Zone: {totalNumber}\") if label is None else label,\n",
        "            text_anchor=Point(450, 250),\n",
        "            background_color=self.color,\n",
        "            text_color=self.text_color,\n",
        "            text_scale=self.text_scale,\n",
        "            text_thickness=self.text_thickness,\n",
        "            text_padding=self.text_padding,\n",
        "            text_font=self.font,\n",
        "        )\n",
        "        return annotated_frame\n"
      ],
      "metadata": {
        "id": "4KlUcZGbBUvH"
      },
      "execution_count": null,
      "outputs": []
    },
    {
      "cell_type": "code",
      "source": [
        "\n",
        "personPerFrame = [0, 0]\n",
        "res = 0\n",
        "N = 40\n",
        "personPerNFrame = [0, 0]\n",
        "i = 0\n",
        "sumPerson = 0\n",
        "\n",
        "\n",
        "def process_frame(frame: np.ndarray, _) -> np.ndarray:\n",
        "    # detect\n",
        "    results = model(frame, imgsz=1280)[0]\n",
        "    detections = sv.Detections.from_yolov8(results)\n",
        "    detections = detections[(detections.class_id == 0)\n",
        "                            & (detections.confidence > 0.4)]\n",
        "    zone.trigger(detections,personPerFrame)\n",
        "\n",
        "    # annotate\n",
        "    box_annotator = sv.BoxAnnotator(\n",
        "        thickness=4, text_thickness=4, text_scale=2)\n",
        "    labels = [f\"{model.names[class_id]} {confidence:0.2f}\" for _,\n",
        "              confidence, class_id, _ in detections]\n",
        "    frame = box_annotator.annotate(\n",
        "        scene=frame, detections=detections, labels=labels)\n",
        "    frame = zone_annotator.annotate(res, scene=frame,)\n",
        "\n",
        "    return frame\n",
        "\n",
        "\n",
        "# initiate polygon zone\n",
        "polygon = np.array([\n",
        "    [961, 1078],\n",
        "    [763, 550],\n",
        "    [1502, 254],\n",
        "    [1914, 260],\n",
        "    [1920, 1080]\n",
        "])\n",
        "video_info = sv.VideoInfo.from_video_path(SOURCE_VIDEO_PATH)\n",
        "\n",
        "zone = PolygonZone(\n",
        "    polygon=polygon, frame_resolution_wh=video_info.resolution_wh)\n",
        "\n",
        "# initiate annotators\n",
        "box_annotator = sv.BoxAnnotator(thickness=4, text_thickness=4, text_scale=2)\n",
        "zone_annotator = PolygonZoneAnnotator(\n",
        "    zone=zone, color=sv.Color.white(), thickness=6, text_thickness=3, text_scale=2)\n",
        "\n",
        "\n",
        "generator = sv.get_video_frames_generator(SOURCE_VIDEO_PATH)\n",
        "\n",
        "iterator = iter(generator)\n",
        "frame = next(iterator)\n",
        "\n",
        "out = cv2.VideoWriter(TARGET_VIDEO_PATH, cv2.VideoWriter_fourcc(\n",
        "    *'mp4v'), FPS, (WIDTH//2, HEIGHT//2))\n",
        "num = 0\n",
        "\n",
        "for frame in iterator:\n",
        "    num += 1\n",
        "    current = process_frame(frame, 1)\n",
        "\n",
        "    if i < N:\n",
        "        sumPerson += personPerFrame[-1]\n",
        "        i += 1\n",
        "    else:\n",
        "        numPerson = sumPerson/N\n",
        "        if numPerson-numPerson//1 < 0.5:\n",
        "            personPerNFrame.append(numPerson//1)\n",
        "        else:\n",
        "            personPerNFrame.append(numPerson//1+1)\n",
        "        sumPerson = 0\n",
        "        i = 0\n",
        "\n",
        "        currentFrame = personPerNFrame[-1]\n",
        "        previousFrame = personPerNFrame[-2]\n",
        "        if currentFrame < previousFrame:\n",
        "            res = max(res, previousFrame)\n",
        "        else:\n",
        "            res += currentFrame-previousFrame\n",
        "    print(f\"TOTAL NUMBER: {res}\")\n",
        "\n",
        "    width = int(current.shape[1] * 0.5)\n",
        "    height = int(current.shape[0] * 0.5)\n",
        "    new_size = (width, height)\n",
        "\n",
        "    resized_img = cv2.resize(current, new_size)\n",
        "    out.write(resized_img)\n",
        "    # cv2.imshow('Pedestrian Detection', resized_img)\n",
        "    # if cv2.waitKey(1) & 0xFF == ord('q'):\n",
        "        # break\n",
        "out.release()\n",
        "cv2.destroyAllWindows()\n",
        "\n"
      ],
      "metadata": {
        "id": "_0FaicvLCIA3"
      },
      "execution_count": null,
      "outputs": []
    }
  ],
  "metadata": {
    "colab": {
      "provenance": [],
      "toc_visible": true
    },
    "kernelspec": {
      "display_name": "Python 3",
      "name": "python3"
    },
    "language_info": {
      "name": "python"
    },
    "accelerator": "GPU",
    "gpuClass": "standard",
    "widgets": {
      "application/vnd.jupyter.widget-state+json": {
        "899f6281b6764d4cb57e360dc0cbd765": {
          "model_module": "@jupyter-widgets/controls",
          "model_name": "HBoxModel",
          "model_module_version": "1.5.0",
          "state": {
            "_dom_classes": [],
            "_model_module": "@jupyter-widgets/controls",
            "_model_module_version": "1.5.0",
            "_model_name": "HBoxModel",
            "_view_count": null,
            "_view_module": "@jupyter-widgets/controls",
            "_view_module_version": "1.5.0",
            "_view_name": "HBoxView",
            "box_style": "",
            "children": [
              "IPY_MODEL_33137771ec43408aa14959088337dd23",
              "IPY_MODEL_21b5e49105e84865aeb65c16fc5853de",
              "IPY_MODEL_3c9a319e93f241bd8496bf093ec05bd7"
            ],
            "layout": "IPY_MODEL_c28ad9d789bb425ba27ecc91a59f44ff"
          }
        },
        "33137771ec43408aa14959088337dd23": {
          "model_module": "@jupyter-widgets/controls",
          "model_name": "HTMLModel",
          "model_module_version": "1.5.0",
          "state": {
            "_dom_classes": [],
            "_model_module": "@jupyter-widgets/controls",
            "_model_module_version": "1.5.0",
            "_model_name": "HTMLModel",
            "_view_count": null,
            "_view_module": "@jupyter-widgets/controls",
            "_view_module_version": "1.5.0",
            "_view_name": "HTMLView",
            "description": "",
            "description_tooltip": null,
            "layout": "IPY_MODEL_98d392b006c24f74ad46172d2e357bc7",
            "placeholder": "​",
            "style": "IPY_MODEL_6915a5d6067a426a998acec836de8488",
            "value": "100%"
          }
        },
        "21b5e49105e84865aeb65c16fc5853de": {
          "model_module": "@jupyter-widgets/controls",
          "model_name": "FloatProgressModel",
          "model_module_version": "1.5.0",
          "state": {
            "_dom_classes": [],
            "_model_module": "@jupyter-widgets/controls",
            "_model_module_version": "1.5.0",
            "_model_name": "FloatProgressModel",
            "_view_count": null,
            "_view_module": "@jupyter-widgets/controls",
            "_view_module_version": "1.5.0",
            "_view_name": "ProgressView",
            "bar_style": "success",
            "description": "",
            "description_tooltip": null,
            "layout": "IPY_MODEL_ff6cf2ce648246f6bc3ed7fd5e584d52",
            "max": 6534387,
            "min": 0,
            "orientation": "horizontal",
            "style": "IPY_MODEL_e026731287d94f719ddbe89956422c63",
            "value": 6534387
          }
        },
        "3c9a319e93f241bd8496bf093ec05bd7": {
          "model_module": "@jupyter-widgets/controls",
          "model_name": "HTMLModel",
          "model_module_version": "1.5.0",
          "state": {
            "_dom_classes": [],
            "_model_module": "@jupyter-widgets/controls",
            "_model_module_version": "1.5.0",
            "_model_name": "HTMLModel",
            "_view_count": null,
            "_view_module": "@jupyter-widgets/controls",
            "_view_module_version": "1.5.0",
            "_view_name": "HTMLView",
            "description": "",
            "description_tooltip": null,
            "layout": "IPY_MODEL_a6b192d4ac8440a1a67fd04e928148f4",
            "placeholder": "​",
            "style": "IPY_MODEL_6c3a7d15edcc4536986925ce48f0d430",
            "value": " 6.23M/6.23M [00:00&lt;00:00, 33.7MB/s]"
          }
        },
        "c28ad9d789bb425ba27ecc91a59f44ff": {
          "model_module": "@jupyter-widgets/base",
          "model_name": "LayoutModel",
          "model_module_version": "1.2.0",
          "state": {
            "_model_module": "@jupyter-widgets/base",
            "_model_module_version": "1.2.0",
            "_model_name": "LayoutModel",
            "_view_count": null,
            "_view_module": "@jupyter-widgets/base",
            "_view_module_version": "1.2.0",
            "_view_name": "LayoutView",
            "align_content": null,
            "align_items": null,
            "align_self": null,
            "border": null,
            "bottom": null,
            "display": null,
            "flex": null,
            "flex_flow": null,
            "grid_area": null,
            "grid_auto_columns": null,
            "grid_auto_flow": null,
            "grid_auto_rows": null,
            "grid_column": null,
            "grid_gap": null,
            "grid_row": null,
            "grid_template_areas": null,
            "grid_template_columns": null,
            "grid_template_rows": null,
            "height": null,
            "justify_content": null,
            "justify_items": null,
            "left": null,
            "margin": null,
            "max_height": null,
            "max_width": null,
            "min_height": null,
            "min_width": null,
            "object_fit": null,
            "object_position": null,
            "order": null,
            "overflow": null,
            "overflow_x": null,
            "overflow_y": null,
            "padding": null,
            "right": null,
            "top": null,
            "visibility": null,
            "width": null
          }
        },
        "98d392b006c24f74ad46172d2e357bc7": {
          "model_module": "@jupyter-widgets/base",
          "model_name": "LayoutModel",
          "model_module_version": "1.2.0",
          "state": {
            "_model_module": "@jupyter-widgets/base",
            "_model_module_version": "1.2.0",
            "_model_name": "LayoutModel",
            "_view_count": null,
            "_view_module": "@jupyter-widgets/base",
            "_view_module_version": "1.2.0",
            "_view_name": "LayoutView",
            "align_content": null,
            "align_items": null,
            "align_self": null,
            "border": null,
            "bottom": null,
            "display": null,
            "flex": null,
            "flex_flow": null,
            "grid_area": null,
            "grid_auto_columns": null,
            "grid_auto_flow": null,
            "grid_auto_rows": null,
            "grid_column": null,
            "grid_gap": null,
            "grid_row": null,
            "grid_template_areas": null,
            "grid_template_columns": null,
            "grid_template_rows": null,
            "height": null,
            "justify_content": null,
            "justify_items": null,
            "left": null,
            "margin": null,
            "max_height": null,
            "max_width": null,
            "min_height": null,
            "min_width": null,
            "object_fit": null,
            "object_position": null,
            "order": null,
            "overflow": null,
            "overflow_x": null,
            "overflow_y": null,
            "padding": null,
            "right": null,
            "top": null,
            "visibility": null,
            "width": null
          }
        },
        "6915a5d6067a426a998acec836de8488": {
          "model_module": "@jupyter-widgets/controls",
          "model_name": "DescriptionStyleModel",
          "model_module_version": "1.5.0",
          "state": {
            "_model_module": "@jupyter-widgets/controls",
            "_model_module_version": "1.5.0",
            "_model_name": "DescriptionStyleModel",
            "_view_count": null,
            "_view_module": "@jupyter-widgets/base",
            "_view_module_version": "1.2.0",
            "_view_name": "StyleView",
            "description_width": ""
          }
        },
        "ff6cf2ce648246f6bc3ed7fd5e584d52": {
          "model_module": "@jupyter-widgets/base",
          "model_name": "LayoutModel",
          "model_module_version": "1.2.0",
          "state": {
            "_model_module": "@jupyter-widgets/base",
            "_model_module_version": "1.2.0",
            "_model_name": "LayoutModel",
            "_view_count": null,
            "_view_module": "@jupyter-widgets/base",
            "_view_module_version": "1.2.0",
            "_view_name": "LayoutView",
            "align_content": null,
            "align_items": null,
            "align_self": null,
            "border": null,
            "bottom": null,
            "display": null,
            "flex": null,
            "flex_flow": null,
            "grid_area": null,
            "grid_auto_columns": null,
            "grid_auto_flow": null,
            "grid_auto_rows": null,
            "grid_column": null,
            "grid_gap": null,
            "grid_row": null,
            "grid_template_areas": null,
            "grid_template_columns": null,
            "grid_template_rows": null,
            "height": null,
            "justify_content": null,
            "justify_items": null,
            "left": null,
            "margin": null,
            "max_height": null,
            "max_width": null,
            "min_height": null,
            "min_width": null,
            "object_fit": null,
            "object_position": null,
            "order": null,
            "overflow": null,
            "overflow_x": null,
            "overflow_y": null,
            "padding": null,
            "right": null,
            "top": null,
            "visibility": null,
            "width": null
          }
        },
        "e026731287d94f719ddbe89956422c63": {
          "model_module": "@jupyter-widgets/controls",
          "model_name": "ProgressStyleModel",
          "model_module_version": "1.5.0",
          "state": {
            "_model_module": "@jupyter-widgets/controls",
            "_model_module_version": "1.5.0",
            "_model_name": "ProgressStyleModel",
            "_view_count": null,
            "_view_module": "@jupyter-widgets/base",
            "_view_module_version": "1.2.0",
            "_view_name": "StyleView",
            "bar_color": null,
            "description_width": ""
          }
        },
        "a6b192d4ac8440a1a67fd04e928148f4": {
          "model_module": "@jupyter-widgets/base",
          "model_name": "LayoutModel",
          "model_module_version": "1.2.0",
          "state": {
            "_model_module": "@jupyter-widgets/base",
            "_model_module_version": "1.2.0",
            "_model_name": "LayoutModel",
            "_view_count": null,
            "_view_module": "@jupyter-widgets/base",
            "_view_module_version": "1.2.0",
            "_view_name": "LayoutView",
            "align_content": null,
            "align_items": null,
            "align_self": null,
            "border": null,
            "bottom": null,
            "display": null,
            "flex": null,
            "flex_flow": null,
            "grid_area": null,
            "grid_auto_columns": null,
            "grid_auto_flow": null,
            "grid_auto_rows": null,
            "grid_column": null,
            "grid_gap": null,
            "grid_row": null,
            "grid_template_areas": null,
            "grid_template_columns": null,
            "grid_template_rows": null,
            "height": null,
            "justify_content": null,
            "justify_items": null,
            "left": null,
            "margin": null,
            "max_height": null,
            "max_width": null,
            "min_height": null,
            "min_width": null,
            "object_fit": null,
            "object_position": null,
            "order": null,
            "overflow": null,
            "overflow_x": null,
            "overflow_y": null,
            "padding": null,
            "right": null,
            "top": null,
            "visibility": null,
            "width": null
          }
        },
        "6c3a7d15edcc4536986925ce48f0d430": {
          "model_module": "@jupyter-widgets/controls",
          "model_name": "DescriptionStyleModel",
          "model_module_version": "1.5.0",
          "state": {
            "_model_module": "@jupyter-widgets/controls",
            "_model_module_version": "1.5.0",
            "_model_name": "DescriptionStyleModel",
            "_view_count": null,
            "_view_module": "@jupyter-widgets/base",
            "_view_module_version": "1.2.0",
            "_view_name": "StyleView",
            "description_width": ""
          }
        }
      }
    }
  },
  "nbformat": 4,
  "nbformat_minor": 0
}
